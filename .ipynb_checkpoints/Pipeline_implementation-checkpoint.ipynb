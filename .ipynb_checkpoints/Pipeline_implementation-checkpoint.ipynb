{
 "cells": [
  {
   "cell_type": "code",
   "execution_count": null,
   "metadata": {},
   "outputs": [],
   "source": [
    "from sklearn.pipeline import Pipeline\n",
    "\n",
    "pre_processing = %run ./Data_Preprocessing_networkX.ipynb\n",
    "one_network = %run ./Exploratory-analysis-how-investment-company-connected.ipynb\n",
    "overtime = %run ./Exploratory_Data_Analysis.ipynb\n",
    "\n",
    "Pipeline(steps=[(\"preprocessing\", pre_processing), \n",
    "         (\"one network analysis\", one_network),\n",
    "        (\"analysis over time\", overtime)])"
   ]
  }
 ],
 "metadata": {
  "kernelspec": {
   "display_name": "Python 3",
   "language": "python",
   "name": "python3"
  },
  "language_info": {
   "codemirror_mode": {
    "name": "ipython",
    "version": 3
   },
   "file_extension": ".py",
   "mimetype": "text/x-python",
   "name": "python",
   "nbconvert_exporter": "python",
   "pygments_lexer": "ipython3",
   "version": "3.7.9"
  }
 },
 "nbformat": 4,
 "nbformat_minor": 4
}
