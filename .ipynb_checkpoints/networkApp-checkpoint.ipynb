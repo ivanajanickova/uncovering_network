{
 "cells": [
  {
   "cell_type": "code",
   "execution_count": 1,
   "metadata": {},
   "outputs": [],
   "source": [
    "import pandas as pd\n",
    "import dash\n",
    "import dash_html_components as html\n",
    "import plotly.graph_objs as go\n",
    "import dash_core_components as dcc\n",
    "from jupyter_dash import JupyterDash\n",
    "from dash.dependencies import Input, Output\n",
    "import json\n",
    "import plotly.express as px\n",
    "import dash_cytoscape as cyto"
   ]
  },
  {
   "cell_type": "markdown",
   "metadata": {},
   "source": [
    "# Load default data"
   ]
  },
  {
   "cell_type": "code",
   "execution_count": 2,
   "metadata": {},
   "outputs": [],
   "source": [
    "\n",
    "with open('/home/ivana/Environments/Data_Preprocessing/json/data2021.json') as json_file:\n",
    "    data2021 = json.load(json_file)\n",
    "    \n",
    "with open('/home/ivana/Environments/Data_Preprocessing/json/names2021.json') as json_file:\n",
    "    names2021 = json.load(json_file)\n"
   ]
  },
  {
   "cell_type": "markdown",
   "metadata": {},
   "source": [
    "# Generate elements of the graph"
   ]
  },
  {
   "cell_type": "code",
   "execution_count": 6,
   "metadata": {},
   "outputs": [],
   "source": [
    "def generate_elements(data_dict, names_dict):\n",
    "    added_pairs = {}\n",
    "    elements = []\n",
    "    for cik1 in data_dict.keys():\n",
    "        issuers_dict1 = data_dict.get(cik1)\n",
    "        issuers_set1 = set(issuers_dict1.keys())\n",
    "\n",
    "        for cik2 in data_dict.keys():\n",
    "            issuers_dict2 = data_dict.get(cik2)\n",
    "            issuers_set2 = set(issuers_dict2.keys())\n",
    "            common = issuers_set1.intersection(issuers_set2)\n",
    "\n",
    "            if (bool(common) and cik1 != cik2):\n",
    "                e1 = {'data' : {'id': cik1, 'label' : names_dict.get(cik1)}}\n",
    "                e2 = {'data' : {'id': cik2, 'label' : names_dict.get(cik2)}}\n",
    "                e3 = {'data': {'source': cik1, 'target': cik2}}\n",
    "                elements.append(e1)\n",
    "                elements.append(e2)\n",
    "                elements.append(e3)\n",
    "    return elements"
   ]
  },
  {
   "cell_type": "markdown",
   "metadata": {},
   "source": [
    "# App Layout"
   ]
  },
  {
   "cell_type": "code",
   "execution_count": 8,
   "metadata": {},
   "outputs": [],
   "source": [
    "external_stylesheets = ['https://codepen.io/chriddyp/pen/bWLwgP.css']\n",
    "\n",
    "app = JupyterDash(__name__, external_stylesheets=external_stylesheets)\n",
    "\n",
    "# Create server variable with Flask server object for use with gunicorn\n",
    "server = app.server\n",
    "\n",
    "# App Layout & Callbacks\n",
    "app.layout = html.Div([\n",
    "    \n",
    "    html.Div(className='two columns', children=[\n",
    "        dcc.Dropdown(\n",
    "                id='year-selection',\n",
    "                options=[\n",
    "                        {'label': '2018', 'value': '2018'},\n",
    "                        {'label': '2019', 'value': '2019'},\n",
    "                        {'label': '2020', 'value': '2020'},\n",
    "                        {'label': '2021', 'value': '2021'}\n",
    "                ],\n",
    "                value='2021'\n",
    "        ),\n",
    "    ]),\n",
    "\n",
    "     html.Div(className='ten columns', children=[\n",
    "        cyto.Cytoscape(\n",
    "            id='cytoscape',\n",
    "            elements= generate_elements(data2021, names2021),\n",
    "            layout={'name': 'random'},\n",
    "            #stylesheet=default_stylesheet,\n",
    "            style={'width': '1000px', 'height': '1000px'}\n",
    "        )\n",
    "        ])\n",
    "])\n",
    "\n",
    "     "
   ]
  },
  {
   "cell_type": "code",
   "execution_count": 9,
   "metadata": {},
   "outputs": [],
   "source": [
    "@app.callback(\n",
    "    Output('cytoscape', 'elements'),\n",
    "    Input('year-selection', 'value'),\n",
    ")\n",
    "def update_nodes(year_value):\n",
    "    with open('/home/ivana/Environments/Data_Preprocessing/json/data'+str(year_value) + '.json') as json_file:\n",
    "        data = json.load(json_file)\n",
    "    with open('/home/ivana/Environments/Data_Preprocessing/json/names'+str(year_value) + '.json') as json_file:\n",
    "        names = json.load(json_file)\n",
    "    \n",
    "    elements = generate_elements(data, names)\n",
    "    \n",
    "    return elements\n"
   ]
  },
  {
   "cell_type": "code",
   "execution_count": 10,
   "metadata": {},
   "outputs": [
    {
     "name": "stdout",
     "output_type": "stream",
     "text": [
      "Dash app running on http://127.0.0.1:8050/\n"
     ]
    }
   ],
   "source": [
    "if __name__ == '__main__':\n",
    "    app.run_server(debug=True)"
   ]
  }
 ],
 "metadata": {
  "kernelspec": {
   "display_name": "Python 3",
   "language": "python",
   "name": "python3"
  },
  "language_info": {
   "codemirror_mode": {
    "name": "ipython",
    "version": 3
   },
   "file_extension": ".py",
   "mimetype": "text/x-python",
   "name": "python",
   "nbconvert_exporter": "python",
   "pygments_lexer": "ipython3",
   "version": "3.7.9"
  }
 },
 "nbformat": 4,
 "nbformat_minor": 4
}
