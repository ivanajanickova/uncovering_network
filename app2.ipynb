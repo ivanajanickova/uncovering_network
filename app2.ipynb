{
 "cells": [
  {
   "cell_type": "markdown",
   "metadata": {},
   "source": [
    "<h2>Packages<h2>"
   ]
  },
  {
   "cell_type": "code",
   "execution_count": 1,
   "metadata": {},
   "outputs": [
    {
     "name": "stdout",
     "output_type": "stream",
     "text": [
      "Requirement already satisfied: jupyterlab>=1.0 in /Users/robcolaes/opt/anaconda3/lib/python3.8/site-packages (2.2.6)\n",
      "Requirement already satisfied: jupyterlab-dash==0.1.0a3 in /Users/robcolaes/opt/anaconda3/lib/python3.8/site-packages (0.1.0a3)\n",
      "Requirement already satisfied: notebook>=4.3.1 in /Users/robcolaes/opt/anaconda3/lib/python3.8/site-packages (from jupyterlab>=1.0) (6.1.4)\n",
      "Requirement already satisfied: tornado!=6.0.0,!=6.0.1,!=6.0.2 in /Users/robcolaes/opt/anaconda3/lib/python3.8/site-packages (from jupyterlab>=1.0) (6.0.4)\n",
      "Requirement already satisfied: jupyterlab_server<2.0,>=1.1.5 in /Users/robcolaes/opt/anaconda3/lib/python3.8/site-packages (from jupyterlab>=1.0) (1.2.0)\n",
      "Requirement already satisfied: jinja2>=2.10 in /Users/robcolaes/opt/anaconda3/lib/python3.8/site-packages (from jupyterlab>=1.0) (2.11.2)\n",
      "Requirement already satisfied: jupyter-server-proxy in /Users/robcolaes/opt/anaconda3/lib/python3.8/site-packages (from jupyterlab-dash==0.1.0a3) (3.0.2)\n",
      "Requirement already satisfied: dash in /Users/robcolaes/opt/anaconda3/lib/python3.8/site-packages (from jupyterlab-dash==0.1.0a3) (1.20.0)\n",
      "Requirement already satisfied: prometheus-client in /Users/robcolaes/opt/anaconda3/lib/python3.8/site-packages (from notebook>=4.3.1->jupyterlab>=1.0) (0.8.0)\n",
      "Requirement already satisfied: terminado>=0.8.3 in /Users/robcolaes/opt/anaconda3/lib/python3.8/site-packages (from notebook>=4.3.1->jupyterlab>=1.0) (0.9.1)\n",
      "Requirement already satisfied: ipython-genutils in /Users/robcolaes/opt/anaconda3/lib/python3.8/site-packages (from notebook>=4.3.1->jupyterlab>=1.0) (0.2.0)\n",
      "Requirement already satisfied: jupyter-core>=4.6.1 in /Users/robcolaes/opt/anaconda3/lib/python3.8/site-packages (from notebook>=4.3.1->jupyterlab>=1.0) (4.6.3)\n",
      "Requirement already satisfied: ipykernel in /Users/robcolaes/opt/anaconda3/lib/python3.8/site-packages (from notebook>=4.3.1->jupyterlab>=1.0) (5.3.4)\n",
      "Requirement already satisfied: nbformat in /Users/robcolaes/opt/anaconda3/lib/python3.8/site-packages (from notebook>=4.3.1->jupyterlab>=1.0) (5.0.8)\n",
      "Requirement already satisfied: traitlets>=4.2.1 in /Users/robcolaes/opt/anaconda3/lib/python3.8/site-packages (from notebook>=4.3.1->jupyterlab>=1.0) (5.0.5)\n",
      "Requirement already satisfied: jupyter-client>=5.3.4 in /Users/robcolaes/opt/anaconda3/lib/python3.8/site-packages (from notebook>=4.3.1->jupyterlab>=1.0) (6.1.7)\n",
      "Requirement already satisfied: Send2Trash in /Users/robcolaes/opt/anaconda3/lib/python3.8/site-packages (from notebook>=4.3.1->jupyterlab>=1.0) (1.5.0)\n",
      "Requirement already satisfied: nbconvert in /Users/robcolaes/opt/anaconda3/lib/python3.8/site-packages (from notebook>=4.3.1->jupyterlab>=1.0) (6.0.7)\n",
      "Requirement already satisfied: argon2-cffi in /Users/robcolaes/opt/anaconda3/lib/python3.8/site-packages (from notebook>=4.3.1->jupyterlab>=1.0) (20.1.0)\n",
      "Requirement already satisfied: pyzmq>=17 in /Users/robcolaes/opt/anaconda3/lib/python3.8/site-packages (from notebook>=4.3.1->jupyterlab>=1.0) (19.0.2)\n",
      "Requirement already satisfied: json5 in /Users/robcolaes/opt/anaconda3/lib/python3.8/site-packages (from jupyterlab_server<2.0,>=1.1.5->jupyterlab>=1.0) (0.9.5)\n",
      "Requirement already satisfied: jsonschema>=3.0.1 in /Users/robcolaes/opt/anaconda3/lib/python3.8/site-packages (from jupyterlab_server<2.0,>=1.1.5->jupyterlab>=1.0) (3.2.0)\n",
      "Requirement already satisfied: requests in /Users/robcolaes/opt/anaconda3/lib/python3.8/site-packages (from jupyterlab_server<2.0,>=1.1.5->jupyterlab>=1.0) (2.24.0)\n",
      "Requirement already satisfied: MarkupSafe>=0.23 in /Users/robcolaes/opt/anaconda3/lib/python3.8/site-packages (from jinja2>=2.10->jupyterlab>=1.0) (1.1.1)\n",
      "Requirement already satisfied: simpervisor>=0.4 in /Users/robcolaes/opt/anaconda3/lib/python3.8/site-packages (from jupyter-server-proxy->jupyterlab-dash==0.1.0a3) (0.4)\n",
      "Requirement already satisfied: jupyter-server>=1.0 in /Users/robcolaes/opt/anaconda3/lib/python3.8/site-packages (from jupyter-server-proxy->jupyterlab-dash==0.1.0a3) (1.6.4)\n",
      "Requirement already satisfied: aiohttp in /Users/robcolaes/opt/anaconda3/lib/python3.8/site-packages (from jupyter-server-proxy->jupyterlab-dash==0.1.0a3) (3.7.4.post0)\n",
      "Requirement already satisfied: dash-html-components==1.1.3 in /Users/robcolaes/opt/anaconda3/lib/python3.8/site-packages (from dash->jupyterlab-dash==0.1.0a3) (1.1.3)\n",
      "Requirement already satisfied: dash-renderer==1.9.1 in /Users/robcolaes/opt/anaconda3/lib/python3.8/site-packages (from dash->jupyterlab-dash==0.1.0a3) (1.9.1)\n",
      "Requirement already satisfied: dash-core-components==1.16.0 in /Users/robcolaes/opt/anaconda3/lib/python3.8/site-packages (from dash->jupyterlab-dash==0.1.0a3) (1.16.0)\n",
      "Requirement already satisfied: plotly in /Users/robcolaes/opt/anaconda3/lib/python3.8/site-packages (from dash->jupyterlab-dash==0.1.0a3) (4.14.3)\n",
      "Requirement already satisfied: flask-compress in /Users/robcolaes/opt/anaconda3/lib/python3.8/site-packages (from dash->jupyterlab-dash==0.1.0a3) (1.9.0)\n",
      "Requirement already satisfied: dash-table==4.11.3 in /Users/robcolaes/opt/anaconda3/lib/python3.8/site-packages (from dash->jupyterlab-dash==0.1.0a3) (4.11.3)\n",
      "Requirement already satisfied: future in /Users/robcolaes/opt/anaconda3/lib/python3.8/site-packages (from dash->jupyterlab-dash==0.1.0a3) (0.18.2)\n",
      "Requirement already satisfied: Flask>=1.0.4 in /Users/robcolaes/opt/anaconda3/lib/python3.8/site-packages (from dash->jupyterlab-dash==0.1.0a3) (1.1.2)\n",
      "Requirement already satisfied: ptyprocess in /Users/robcolaes/opt/anaconda3/lib/python3.8/site-packages (from terminado>=0.8.3->notebook>=4.3.1->jupyterlab>=1.0) (0.6.0)\n",
      "Requirement already satisfied: appnope; platform_system == \"Darwin\" in /Users/robcolaes/opt/anaconda3/lib/python3.8/site-packages (from ipykernel->notebook>=4.3.1->jupyterlab>=1.0) (0.1.0)\n",
      "Requirement already satisfied: ipython>=5.0.0 in /Users/robcolaes/opt/anaconda3/lib/python3.8/site-packages (from ipykernel->notebook>=4.3.1->jupyterlab>=1.0) (7.19.0)\n",
      "Requirement already satisfied: python-dateutil>=2.1 in /Users/robcolaes/opt/anaconda3/lib/python3.8/site-packages (from jupyter-client>=5.3.4->notebook>=4.3.1->jupyterlab>=1.0) (2.8.1)\n",
      "Requirement already satisfied: mistune<2,>=0.8.1 in /Users/robcolaes/opt/anaconda3/lib/python3.8/site-packages (from nbconvert->notebook>=4.3.1->jupyterlab>=1.0) (0.8.4)\n",
      "Requirement already satisfied: pandocfilters>=1.4.1 in /Users/robcolaes/opt/anaconda3/lib/python3.8/site-packages (from nbconvert->notebook>=4.3.1->jupyterlab>=1.0) (1.4.3)\n",
      "Requirement already satisfied: testpath in /Users/robcolaes/opt/anaconda3/lib/python3.8/site-packages (from nbconvert->notebook>=4.3.1->jupyterlab>=1.0) (0.4.4)\n",
      "Requirement already satisfied: pygments>=2.4.1 in /Users/robcolaes/opt/anaconda3/lib/python3.8/site-packages (from nbconvert->notebook>=4.3.1->jupyterlab>=1.0) (2.7.2)\n",
      "Requirement already satisfied: jupyterlab-pygments in /Users/robcolaes/opt/anaconda3/lib/python3.8/site-packages (from nbconvert->notebook>=4.3.1->jupyterlab>=1.0) (0.1.2)\n",
      "Requirement already satisfied: entrypoints>=0.2.2 in /Users/robcolaes/opt/anaconda3/lib/python3.8/site-packages (from nbconvert->notebook>=4.3.1->jupyterlab>=1.0) (0.3)\n",
      "Requirement already satisfied: bleach in /Users/robcolaes/opt/anaconda3/lib/python3.8/site-packages (from nbconvert->notebook>=4.3.1->jupyterlab>=1.0) (3.2.1)\n",
      "Requirement already satisfied: nbclient<0.6.0,>=0.5.0 in /Users/robcolaes/opt/anaconda3/lib/python3.8/site-packages (from nbconvert->notebook>=4.3.1->jupyterlab>=1.0) (0.5.1)\n",
      "Requirement already satisfied: defusedxml in /Users/robcolaes/opt/anaconda3/lib/python3.8/site-packages (from nbconvert->notebook>=4.3.1->jupyterlab>=1.0) (0.6.0)\n",
      "Requirement already satisfied: cffi>=1.0.0 in /Users/robcolaes/opt/anaconda3/lib/python3.8/site-packages (from argon2-cffi->notebook>=4.3.1->jupyterlab>=1.0) (1.14.3)\n",
      "Requirement already satisfied: six in /Users/robcolaes/opt/anaconda3/lib/python3.8/site-packages (from argon2-cffi->notebook>=4.3.1->jupyterlab>=1.0) (1.15.0)\n",
      "Requirement already satisfied: setuptools in /Users/robcolaes/opt/anaconda3/lib/python3.8/site-packages (from jsonschema>=3.0.1->jupyterlab_server<2.0,>=1.1.5->jupyterlab>=1.0) (50.3.1.post20201107)\n",
      "Requirement already satisfied: pyrsistent>=0.14.0 in /Users/robcolaes/opt/anaconda3/lib/python3.8/site-packages (from jsonschema>=3.0.1->jupyterlab_server<2.0,>=1.1.5->jupyterlab>=1.0) (0.17.3)\n"
     ]
    },
    {
     "name": "stdout",
     "output_type": "stream",
     "text": [
      "Requirement already satisfied: attrs>=17.4.0 in /Users/robcolaes/opt/anaconda3/lib/python3.8/site-packages (from jsonschema>=3.0.1->jupyterlab_server<2.0,>=1.1.5->jupyterlab>=1.0) (20.3.0)\n",
      "Requirement already satisfied: chardet<4,>=3.0.2 in /Users/robcolaes/opt/anaconda3/lib/python3.8/site-packages (from requests->jupyterlab_server<2.0,>=1.1.5->jupyterlab>=1.0) (3.0.4)\n",
      "Requirement already satisfied: idna<3,>=2.5 in /Users/robcolaes/opt/anaconda3/lib/python3.8/site-packages (from requests->jupyterlab_server<2.0,>=1.1.5->jupyterlab>=1.0) (2.10)\n",
      "Requirement already satisfied: urllib3!=1.25.0,!=1.25.1,<1.26,>=1.21.1 in /Users/robcolaes/opt/anaconda3/lib/python3.8/site-packages (from requests->jupyterlab_server<2.0,>=1.1.5->jupyterlab>=1.0) (1.25.11)\n",
      "Requirement already satisfied: certifi>=2017.4.17 in /Users/robcolaes/opt/anaconda3/lib/python3.8/site-packages (from requests->jupyterlab_server<2.0,>=1.1.5->jupyterlab>=1.0) (2020.6.20)\n",
      "Requirement already satisfied: jupyter-packaging~=0.9 in /Users/robcolaes/opt/anaconda3/lib/python3.8/site-packages (from jupyter-server>=1.0->jupyter-server-proxy->jupyterlab-dash==0.1.0a3) (0.9.2)\n",
      "Requirement already satisfied: anyio<3,>=2.0.2 in /Users/robcolaes/opt/anaconda3/lib/python3.8/site-packages (from jupyter-server>=1.0->jupyter-server-proxy->jupyterlab-dash==0.1.0a3) (2.2.0)\n",
      "Requirement already satisfied: multidict<7.0,>=4.5 in /Users/robcolaes/opt/anaconda3/lib/python3.8/site-packages (from aiohttp->jupyter-server-proxy->jupyterlab-dash==0.1.0a3) (5.1.0)\n",
      "Requirement already satisfied: yarl<2.0,>=1.0 in /Users/robcolaes/opt/anaconda3/lib/python3.8/site-packages (from aiohttp->jupyter-server-proxy->jupyterlab-dash==0.1.0a3) (1.6.3)\n",
      "Requirement already satisfied: async-timeout<4.0,>=3.0 in /Users/robcolaes/opt/anaconda3/lib/python3.8/site-packages (from aiohttp->jupyter-server-proxy->jupyterlab-dash==0.1.0a3) (3.0.1)\n",
      "Requirement already satisfied: typing-extensions>=3.6.5 in /Users/robcolaes/opt/anaconda3/lib/python3.8/site-packages (from aiohttp->jupyter-server-proxy->jupyterlab-dash==0.1.0a3) (3.7.4.3)\n",
      "Requirement already satisfied: retrying>=1.3.3 in /Users/robcolaes/opt/anaconda3/lib/python3.8/site-packages (from plotly->dash->jupyterlab-dash==0.1.0a3) (1.3.3)\n",
      "Requirement already satisfied: brotli in /Users/robcolaes/opt/anaconda3/lib/python3.8/site-packages (from flask-compress->dash->jupyterlab-dash==0.1.0a3) (1.0.9)\n",
      "Requirement already satisfied: itsdangerous>=0.24 in /Users/robcolaes/opt/anaconda3/lib/python3.8/site-packages (from Flask>=1.0.4->dash->jupyterlab-dash==0.1.0a3) (1.1.0)\n",
      "Requirement already satisfied: click>=5.1 in /Users/robcolaes/opt/anaconda3/lib/python3.8/site-packages (from Flask>=1.0.4->dash->jupyterlab-dash==0.1.0a3) (7.1.2)\n",
      "Requirement already satisfied: Werkzeug>=0.15 in /Users/robcolaes/opt/anaconda3/lib/python3.8/site-packages (from Flask>=1.0.4->dash->jupyterlab-dash==0.1.0a3) (1.0.1)\n",
      "Requirement already satisfied: pexpect>4.3; sys_platform != \"win32\" in /Users/robcolaes/opt/anaconda3/lib/python3.8/site-packages (from ipython>=5.0.0->ipykernel->notebook>=4.3.1->jupyterlab>=1.0) (4.8.0)\n",
      "Requirement already satisfied: prompt-toolkit!=3.0.0,!=3.0.1,<3.1.0,>=2.0.0 in /Users/robcolaes/opt/anaconda3/lib/python3.8/site-packages (from ipython>=5.0.0->ipykernel->notebook>=4.3.1->jupyterlab>=1.0) (3.0.8)\n",
      "Requirement already satisfied: decorator in /Users/robcolaes/opt/anaconda3/lib/python3.8/site-packages (from ipython>=5.0.0->ipykernel->notebook>=4.3.1->jupyterlab>=1.0) (4.4.2)\n",
      "Requirement already satisfied: jedi>=0.10 in /Users/robcolaes/opt/anaconda3/lib/python3.8/site-packages (from ipython>=5.0.0->ipykernel->notebook>=4.3.1->jupyterlab>=1.0) (0.17.1)\n",
      "Requirement already satisfied: backcall in /Users/robcolaes/opt/anaconda3/lib/python3.8/site-packages (from ipython>=5.0.0->ipykernel->notebook>=4.3.1->jupyterlab>=1.0) (0.2.0)\n",
      "Requirement already satisfied: pickleshare in /Users/robcolaes/opt/anaconda3/lib/python3.8/site-packages (from ipython>=5.0.0->ipykernel->notebook>=4.3.1->jupyterlab>=1.0) (0.7.5)\n",
      "Requirement already satisfied: packaging in /Users/robcolaes/opt/anaconda3/lib/python3.8/site-packages (from bleach->nbconvert->notebook>=4.3.1->jupyterlab>=1.0) (20.4)\n",
      "Requirement already satisfied: webencodings in /Users/robcolaes/opt/anaconda3/lib/python3.8/site-packages (from bleach->nbconvert->notebook>=4.3.1->jupyterlab>=1.0) (0.5.1)\n",
      "Requirement already satisfied: nest-asyncio in /Users/robcolaes/opt/anaconda3/lib/python3.8/site-packages (from nbclient<0.6.0,>=0.5.0->nbconvert->notebook>=4.3.1->jupyterlab>=1.0) (1.4.2)\n",
      "Requirement already satisfied: async-generator in /Users/robcolaes/opt/anaconda3/lib/python3.8/site-packages (from nbclient<0.6.0,>=0.5.0->nbconvert->notebook>=4.3.1->jupyterlab>=1.0) (1.10)\n",
      "Requirement already satisfied: pycparser in /Users/robcolaes/opt/anaconda3/lib/python3.8/site-packages (from cffi>=1.0.0->argon2-cffi->notebook>=4.3.1->jupyterlab>=1.0) (2.20)\n",
      "Requirement already satisfied: wheel in /Users/robcolaes/opt/anaconda3/lib/python3.8/site-packages (from jupyter-packaging~=0.9->jupyter-server>=1.0->jupyter-server-proxy->jupyterlab-dash==0.1.0a3) (0.35.1)\n",
      "Requirement already satisfied: deprecation in /Users/robcolaes/opt/anaconda3/lib/python3.8/site-packages (from jupyter-packaging~=0.9->jupyter-server>=1.0->jupyter-server-proxy->jupyterlab-dash==0.1.0a3) (2.1.0)\n",
      "Requirement already satisfied: tomlkit in /Users/robcolaes/opt/anaconda3/lib/python3.8/site-packages (from jupyter-packaging~=0.9->jupyter-server>=1.0->jupyter-server-proxy->jupyterlab-dash==0.1.0a3) (0.7.0)\n",
      "Requirement already satisfied: sniffio>=1.1 in /Users/robcolaes/opt/anaconda3/lib/python3.8/site-packages (from anyio<3,>=2.0.2->jupyter-server>=1.0->jupyter-server-proxy->jupyterlab-dash==0.1.0a3) (1.2.0)\n",
      "Requirement already satisfied: wcwidth in /Users/robcolaes/opt/anaconda3/lib/python3.8/site-packages (from prompt-toolkit!=3.0.0,!=3.0.1,<3.1.0,>=2.0.0->ipython>=5.0.0->ipykernel->notebook>=4.3.1->jupyterlab>=1.0) (0.2.5)\n",
      "Requirement already satisfied: parso<0.8.0,>=0.7.0 in /Users/robcolaes/opt/anaconda3/lib/python3.8/site-packages (from jedi>=0.10->ipython>=5.0.0->ipykernel->notebook>=4.3.1->jupyterlab>=1.0) (0.7.0)\n",
      "Requirement already satisfied: pyparsing>=2.0.2 in /Users/robcolaes/opt/anaconda3/lib/python3.8/site-packages (from packaging->bleach->nbconvert->notebook>=4.3.1->jupyterlab>=1.0) (2.4.7)\n",
      "Note: you may need to restart the kernel to use updated packages.\n"
     ]
    }
   ],
   "source": [
    "pip install \"jupyterlab>=1.0\" jupyterlab-dash==0.1.0a3"
   ]
  },
  {
   "cell_type": "code",
   "execution_count": 2,
   "metadata": {},
   "outputs": [],
   "source": [
    "import pandas as pd"
   ]
  },
  {
   "cell_type": "code",
   "execution_count": 3,
   "metadata": {},
   "outputs": [],
   "source": [
    "import dash"
   ]
  },
  {
   "cell_type": "code",
   "execution_count": 4,
   "metadata": {},
   "outputs": [],
   "source": [
    "import dash_html_components as html"
   ]
  },
  {
   "cell_type": "code",
   "execution_count": 5,
   "metadata": {},
   "outputs": [],
   "source": [
    "import plotly.graph_objs as go"
   ]
  },
  {
   "cell_type": "code",
   "execution_count": 6,
   "metadata": {},
   "outputs": [],
   "source": [
    "import dash_core_components as dcc"
   ]
  },
  {
   "cell_type": "code",
   "execution_count": 7,
   "metadata": {},
   "outputs": [],
   "source": [
    "from jupyter_dash import JupyterDash"
   ]
  },
  {
   "cell_type": "code",
   "execution_count": 8,
   "metadata": {},
   "outputs": [],
   "source": [
    "from dash.dependencies import Input, Output"
   ]
  },
  {
   "cell_type": "code",
   "execution_count": 9,
   "metadata": {},
   "outputs": [],
   "source": [
    "import json"
   ]
  },
  {
   "cell_type": "code",
   "execution_count": 10,
   "metadata": {},
   "outputs": [],
   "source": [
    "import plotly.express as px"
   ]
  },
  {
   "cell_type": "markdown",
   "metadata": {},
   "source": [
    "<h2>Data retrieval<h2>"
   ]
  },
  {
   "cell_type": "code",
   "execution_count": 11,
   "metadata": {},
   "outputs": [],
   "source": [
    "with open('/Users/robcolaes/Desktop/Modern Data & Ethics/Modern Data Analytics - Project/uncovering_network-main/data2018.json') as json_file:\n",
    "    data_dict = json.load(json_file)\n",
    "    \n",
    "with open('/Users/robcolaes/Desktop/Modern Data & Ethics/Modern Data Analytics - Project/uncovering_network-main/names2018.json') as json_file:\n",
    "    names_dict = json.load(json_file)"
   ]
  },
  {
   "cell_type": "code",
   "execution_count": 12,
   "metadata": {},
   "outputs": [],
   "source": [
    "issuers_dict = data_dict.get('0000038777')\n",
    "df = pd.DataFrame(list(issuers_dict.items()),columns = ['Company','Total amount']) "
   ]
  },
  {
   "cell_type": "markdown",
   "metadata": {},
   "source": [
    "<h2>Layout app<h2>"
   ]
  },
  {
   "cell_type": "code",
   "execution_count": 13,
   "metadata": {},
   "outputs": [],
   "source": [
    "external_stylesheets = ['https://codepen.io/chriddyp/pen/bWLwgP.css']\n",
    "\n",
    "app = JupyterDash(__name__, external_stylesheets=external_stylesheets)\n",
    "\n",
    "# Create server variable with Flask server object for use with gunicorn\n",
    "server = app.server\n",
    "\n",
    "# App Layout & Callbacks\n",
    "app.layout = html.Div([\n",
    "    \n",
    "    html.Div([\n",
    "        dcc.Dropdown(\n",
    "                id='left-year-selection',\n",
    "                options=[\n",
    "                        {'label': '2018', 'value': '2018'},\n",
    "                        {'label': '2019', 'value': '2019'},\n",
    "                        {'label': '2020', 'value': '2020'},\n",
    "                        {'label': '2021', 'value': '2021'}\n",
    "                ],\n",
    "                value='2018'\n",
    "        ),\n",
    "        \n",
    "        dcc.Dropdown(\n",
    "                id='left-cik-selection',\n",
    "                options=[{'label': i, 'value': i} for i in data_dict.keys()],\n",
    "                value='0001126328',\n",
    "                placeholder='Select a CIK'\n",
    "        ),\n",
    "        \n",
    "        dcc.Graph(id='left-graph'),\n",
    "         \n",
    "        html.Div(id=\"left-total\")\n",
    "        \n",
    "    ],\n",
    "    style={'width': '48%', 'display': 'inline-block'}),\n",
    "    \n",
    "    html.Div([\n",
    "        dcc.Dropdown(\n",
    "                id='right-year-selection',\n",
    "                options=[\n",
    "                        {'label': '2018', 'value': '2018'},\n",
    "                        {'label': '2019', 'value': '2019'},\n",
    "                        {'label': '2020', 'value': '2020'},\n",
    "                        {'label': '2021', 'value': '2021'}\n",
    "                ],\n",
    "                value='2018'\n",
    "        ),\n",
    "        dcc.Dropdown(\n",
    "                id='right-cik-selection',\n",
    "                options=[{'label': i, 'value': i} for i in data_dict.keys()],\n",
    "                value='0001126328',\n",
    "                placeholder='Select a CIK'\n",
    "        ),\n",
    "        \n",
    "        dcc.Graph(id='right-graph'),\n",
    "        \n",
    "        html.Div(id=\"right-total\")\n",
    "        \n",
    "    ],\n",
    "    style={'width': '48%', 'float': 'right', 'display': 'inline-block'})\n",
    "    \n",
    "    \n",
    "    ]                  \n",
    ")\n",
    "\n",
    "\n",
    "@app.callback(\n",
    "    Output('left-graph', 'figure'),\n",
    "    Input('left-year-selection', 'value'),\n",
    "    Input('left-cik-selection','value'))\n",
    "def update_graph(year_value,cik_value):\n",
    "    \n",
    "    directory=\"/Users/robcolaes/Desktop/Modern Data & Ethics/Modern Data Analytics - Project/uncovering_network-main/data\"+str(year_value)+\".json\"\n",
    "    directory2=\"/Users/robcolaes/Desktop/Modern Data & Ethics/Modern Data Analytics - Project/uncovering_network-main/names\"+str(year_value)+\".json\"\n",
    "    \n",
    "    with open(directory) as json_file:\n",
    "        data_dict = json.load(json_file)\n",
    "        \n",
    "    with open(directory2) as json_file2:\n",
    "        names_dict = json.load(json_file2)\n",
    "    \n",
    "    companyname = names_dict.get(cik_value)\n",
    "    \n",
    "    issuers_dict = data_dict.get(cik_value)\n",
    "    df = pd.DataFrame(list(issuers_dict.items()),columns = ['Company','Total amount']) \n",
    "    df10 = df.nlargest(10, columns='Total amount')\n",
    "    \n",
    "    fig = px.pie(df10, values='Total amount', names='Company', color_discrete_sequence=px.colors.sequential.RdBu, title=companyname)\n",
    "    fig.update_traces(hoverinfo='label+percent', textinfo='value')\n",
    "    fig.update_layout(legend_font_size=5)\n",
    "    \n",
    "    return fig\n",
    "  \n",
    "@app.callback(\n",
    "    Output(\"left-total\", \"children\"),\n",
    "    Input('left-year-selection', 'value'),\n",
    "    Input('left-cik-selection','value'))\n",
    "def update_output(year_value,cik_value):\n",
    "    \n",
    "    directory=\"/Users/robcolaes/Desktop/Modern Data & Ethics/Modern Data Analytics - Project/uncovering_network-main/data\"+str(year_value)+\".json\"\n",
    "    \n",
    "    with open(directory) as json_file:\n",
    "        data_dict = json.load(json_file)\n",
    "    \n",
    "    issuers_dict = data_dict.get(cik_value)\n",
    "    df = pd.DataFrame(list(issuers_dict.items()),columns = ['Company','Total amount'])\n",
    "    \n",
    "    total = df['Total amount'].sum()\n",
    "    \n",
    "    return u'Total amount of stocks: {:,}'.format(total)\n",
    "\n",
    "\n",
    "@app.callback(\n",
    "    Output('right-graph', 'figure'),\n",
    "    Input('right-year-selection', 'value'),\n",
    "    Input('right-cik-selection','value'))\n",
    "def update_graph(year_value,cik_value):\n",
    "    \n",
    "    directory=\"/Users/robcolaes/Desktop/Modern Data & Ethics/Modern Data Analytics - Project/uncovering_network-main/data\"+str(year_value)+\".json\"\n",
    "    directory2=\"/Users/robcolaes/Desktop/Modern Data & Ethics/Modern Data Analytics - Project/uncovering_network-main/names\"+str(year_value)+\".json\"\n",
    "    \n",
    "    with open(directory) as json_file:\n",
    "        data_dict = json.load(json_file)\n",
    "        \n",
    "    with open(directory2) as json_file2:\n",
    "        names_dict = json.load(json_file2)\n",
    "    \n",
    "    companyname = names_dict.get(cik_value)\n",
    "    \n",
    "    issuers_dict = data_dict.get(cik_value)\n",
    "    df = pd.DataFrame(list(issuers_dict.items()),columns = ['Company','Total amount']) \n",
    "    df10 = df.nlargest(10, columns='Total amount')\n",
    "    \n",
    "    fig = px.pie(df10, values='Total amount', names='Company', color_discrete_sequence=px.colors.sequential.RdBu, title=companyname)\n",
    "    fig.update_traces(hoverinfo='label+percent', textinfo='value')\n",
    "    fig.update_layout(legend_font_size=5)\n",
    "    \n",
    "    return fig\n",
    "\n",
    "@app.callback(\n",
    "    Output(\"right-total\", \"children\"),\n",
    "    Input('right-year-selection', 'value'),\n",
    "    Input('right-cik-selection','value'))\n",
    "def update_output(year_value,cik_value):\n",
    "    \n",
    "    directory=\"/Users/robcolaes/Desktop/Modern Data & Ethics/Modern Data Analytics - Project/uncovering_network-main/data\"+str(year_value)+\".json\"\n",
    "    \n",
    "    with open(directory) as json_file:\n",
    "        data_dict = json.load(json_file)\n",
    "    \n",
    "    issuers_dict = data_dict.get(cik_value)\n",
    "    df = pd.DataFrame(list(issuers_dict.items()),columns = ['Company','Total amount'])\n",
    "    high = df.nlargest(1, columns='Total amount')\n",
    "    \n",
    "    total = df['Total amount'].sum()\n",
    "    \n",
    "    return u'Total amount of stocks: {:,}'.format(total)\n",
    "\n",
    "@app.callback(\n",
    "    Output('left-cik-selection','options'),\n",
    "    Input('left-year-selection', 'value'))\n",
    "def update_left_dropdown(year_value):\n",
    "    \n",
    "    directory=\"/Users/robcolaes/Desktop/Modern Data & Ethics/Modern Data Analytics - Project/uncovering_network-main/data\"+str(year_value)+\".json\"\n",
    "\n",
    "    with open(directory) as json_file:\n",
    "        data_dict = json.load(json_file)\n",
    "        \n",
    "    return [{'label':i,'value':i} for i in data_dict.keys()]\n",
    "\n",
    "\n",
    "@app.callback(\n",
    "    Output('right-cik-selection','options'),\n",
    "    Input('right-year-selection', 'value'))\n",
    "def update_left_dropdown(year_value):\n",
    "    \n",
    "    directory=\"/Users/robcolaes/Desktop/Modern Data & Ethics/Modern Data Analytics - Project/uncovering_network-main/data\"+str(year_value)+\".json\"\n",
    "    \n",
    "    with open(directory) as json_file:\n",
    "        data_dict = json.load(json_file)\n",
    "        \n",
    "    return [{'label':i,'value':i} for i in data_dict.keys()]\n"
   ]
  },
  {
   "cell_type": "code",
   "execution_count": 14,
   "metadata": {
    "scrolled": false
   },
   "outputs": [
    {
     "data": {
      "text/html": [
       "\n",
       "        <iframe\n",
       "            width=\"100%\"\n",
       "            height=\"650\"\n",
       "            src=\"http://127.0.0.1:8050/\"\n",
       "            frameborder=\"0\"\n",
       "            allowfullscreen\n",
       "        ></iframe>\n",
       "        "
      ],
      "text/plain": [
       "<IPython.lib.display.IFrame at 0x7fd2e8801610>"
      ]
     },
     "metadata": {},
     "output_type": "display_data"
    }
   ],
   "source": [
    "app.run_server(mode=\"inline\")"
   ]
  },
  {
   "cell_type": "code",
   "execution_count": null,
   "metadata": {},
   "outputs": [],
   "source": []
  }
 ],
 "metadata": {
  "kernelspec": {
   "display_name": "Python 3",
   "language": "python",
   "name": "python3"
  },
  "language_info": {
   "codemirror_mode": {
    "name": "ipython",
    "version": 3
   },
   "file_extension": ".py",
   "mimetype": "text/x-python",
   "name": "python",
   "nbconvert_exporter": "python",
   "pygments_lexer": "ipython3",
   "version": "3.8.5"
  }
 },
 "nbformat": 4,
 "nbformat_minor": 4
}
